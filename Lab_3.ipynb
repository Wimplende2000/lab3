{
  "nbformat": 4,
  "nbformat_minor": 0,
  "metadata": {
    "colab": {
      "provenance": [],
      "authorship_tag": "ABX9TyN9sInJdM3CG1snfFxpRPTy",
      "include_colab_link": true
    },
    "kernelspec": {
      "name": "python3",
      "display_name": "Python 3"
    },
    "language_info": {
      "name": "python"
    }
  },
  "cells": [
    {
      "cell_type": "markdown",
      "metadata": {
        "id": "view-in-github",
        "colab_type": "text"
      },
      "source": [
        "<a href=\"https://colab.research.google.com/github/Wimplende2000/lab3/blob/main/Lab_3.ipynb\" target=\"_parent\"><img src=\"https://colab.research.google.com/assets/colab-badge.svg\" alt=\"Open In Colab\"/></a>"
      ]
    },
    {
      "cell_type": "markdown",
      "source": [
        "Names: Logan Carpenter (Logankc2)  \n",
        "\n",
        "Benjamin Euchary(netID)"
      ],
      "metadata": {
        "id": "sjBEDRGh-sVJ"
      }
    },
    {
      "cell_type": "code",
      "execution_count": null,
      "metadata": {
        "colab": {
          "base_uri": "https://localhost:8080/"
        },
        "id": "KUvNb-Ph-pe8",
        "outputId": "a00d8a9b-2867-4ccc-bcb4-7e72aeea7707"
      },
      "outputs": [
        {
          "output_type": "stream",
          "name": "stdout",
          "text": [
            "Index(['income', 'house_price', 'age', 'height', 'car_price',\n",
            "       'education_years', 'work_hours', 'social_media_followers',\n",
            "       'screen_time', 'vacation_expenditure'],\n",
            "      dtype='object')\n",
            "0    1.686915e+08\n",
            "1    1.153221e+08\n",
            "2    2.658110e+08\n",
            "3    6.315472e+06\n",
            "4    1.124220e+07\n",
            "Name: income, dtype: float64\n"
          ]
        }
      ],
      "source": [
        "import numpy as np\n",
        "import pandas as pd\n",
        "import matplotlib.pyplot as plt\n",
        "from scipy.stats import norm\n",
        "data = pd.read_csv('https://richardson.byu.edu/220/neighborhood_survey.csv')\n",
        "print(data.columns)\n",
        "print(data['income'].head())"
      ]
    },
    {
      "cell_type": "markdown",
      "source": [
        "2. For each variable in the data set:  \n",
        "\n",
        "(a) Calculate the maximum likelihood estimates (MLE) for the mean and standard deviation assuming a normal distribution.  \n",
        "(b) Calculate the percentage of data falling within 1 and 2 standard deviations of the mean.  \n",
        "(c) Create graphical representations (e.g., histograms or density plots) to visualize the distribution of the data.  \n",
        "\n"
      ],
      "metadata": {
        "id": "ffAAM1YeCti-"
      }
    },
    {
      "cell_type": "markdown",
      "source": [
        "3. Based on your analysis, identify which variables adhere to a normal distribution and which do not. Justify your conclusions with the calculations and graphical representations you’ve created."
      ],
      "metadata": {
        "id": "ST4EIki6C4bN"
      }
    },
    {
      "cell_type": "markdown",
      "source": [
        "• Approximately 68% of the data falls within 1 standard deviation of the mean.  \n",
        "\n",
        "• Approximately 95% of the data falls within 2 standard deviations of the mean.\n"
      ],
      "metadata": {
        "id": "jMTT8IRpEc0h"
      }
    }
  ]
}